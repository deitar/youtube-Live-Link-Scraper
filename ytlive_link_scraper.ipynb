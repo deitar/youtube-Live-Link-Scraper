{
  "nbformat": 4,
  "nbformat_minor": 0,
  "metadata": {
    "colab": {
      "name": "ytlive-link-scraper.ipynb",
      "provenance": []
    },
    "kernelspec": {
      "name": "python3",
      "display_name": "Python 3"
    }
  },
  "cells": [
    {
      "cell_type": "code",
      "metadata": {
        "id": "Fo17XcWxXJ8T"
      },
      "source": [
        ""
      ],
      "execution_count": null,
      "outputs": []
    },
    {
      "cell_type": "code",
      "metadata": {
        "colab": {
          "base_uri": "https://localhost:8080/"
        },
        "id": "t-Dcf3roXLdL",
        "outputId": "582ca94a-4176-4821-914d-cdcc97dc2771"
      },
      "source": [
        "# install chromium, its driver, and selenium\n",
        "!apt update\n",
        "!apt install chromium-chromedriver\n",
        "!pip install selenium"
      ],
      "execution_count": null,
      "outputs": [
        {
          "output_type": "stream",
          "text": [
            "\u001b[33m\r0% [Working]\u001b[0m\r            \rGet:1 http://security.ubuntu.com/ubuntu bionic-security InRelease [88.7 kB]\n",
            "\u001b[33m\r0% [Connecting to archive.ubuntu.com (91.189.88.142)] [1 InRelease 14.2 kB/88.7\u001b[0m\r                                                                               \rHit:2 https://cloud.r-project.org/bin/linux/ubuntu bionic-cran40/ InRelease\n",
            "\u001b[33m\r0% [Connecting to archive.ubuntu.com (91.189.88.142)] [1 InRelease 43.1 kB/88.7\u001b[0m\u001b[33m\r0% [2 InRelease gpgv 3,626 B] [Connecting to archive.ubuntu.com (91.189.88.142)\u001b[0m\r                                                                               \rIgn:3 https://developer.download.nvidia.com/compute/cuda/repos/ubuntu1804/x86_64  InRelease\n",
            "\u001b[33m\r0% [2 InRelease gpgv 3,626 B] [Connecting to archive.ubuntu.com (91.189.88.142)\u001b[0m\u001b[33m\r0% [2 InRelease gpgv 3,626 B] [Connecting to archive.ubuntu.com (91.189.88.142)\u001b[0m\r                                                                               \rIgn:4 https://developer.download.nvidia.com/compute/machine-learning/repos/ubuntu1804/x86_64  InRelease\n",
            "\u001b[33m\r                                                                               \r0% [2 InRelease gpgv 3,626 B] [Waiting for headers] [Waiting for headers]\u001b[0m\r                                                                         \rHit:5 https://developer.download.nvidia.com/compute/cuda/repos/ubuntu1804/x86_64  Release\n",
            "\u001b[33m\r0% [2 InRelease gpgv 3,626 B] [Waiting for headers] [Waiting for headers]\u001b[0m\r                                                                         \rHit:6 http://ppa.launchpad.net/c2d4u.team/c2d4u4.0+/ubuntu bionic InRelease\n",
            "\u001b[33m\r0% [2 InRelease gpgv 3,626 B] [Waiting for headers] [Connecting to ppa.launchpa\u001b[0m\r                                                                               \rHit:7 https://developer.download.nvidia.com/compute/machine-learning/repos/ubuntu1804/x86_64  Release\n",
            "Hit:8 http://archive.ubuntu.com/ubuntu bionic InRelease\n",
            "Hit:9 http://archive.ubuntu.com/ubuntu bionic-updates InRelease\n",
            "Hit:10 http://ppa.launchpad.net/cran/libgit2/ubuntu bionic InRelease\n",
            "Hit:11 http://archive.ubuntu.com/ubuntu bionic-backports InRelease\n",
            "Hit:12 http://ppa.launchpad.net/graphics-drivers/ppa/ubuntu bionic InRelease\n",
            "Fetched 88.7 kB in 2s (38.8 kB/s)\n",
            "Reading package lists... Done\n",
            "Building dependency tree       \n",
            "Reading state information... Done\n",
            "19 packages can be upgraded. Run 'apt list --upgradable' to see them.\n",
            "Reading package lists... Done\n",
            "Building dependency tree       \n",
            "Reading state information... Done\n",
            "chromium-chromedriver is already the newest version (87.0.4280.66-0ubuntu0.18.04.1).\n",
            "0 upgraded, 0 newly installed, 0 to remove and 19 not upgraded.\n",
            "Requirement already satisfied: selenium in /usr/local/lib/python3.6/dist-packages (3.141.0)\n",
            "Requirement already satisfied: urllib3 in /usr/local/lib/python3.6/dist-packages (from selenium) (1.24.3)\n"
          ],
          "name": "stdout"
        }
      ]
    },
    {
      "cell_type": "code",
      "metadata": {
        "id": "RR8eHcg8XLa6"
      },
      "source": [
        "# set options to be headless, ..\n",
        "from selenium import webdriver\n",
        "from selenium.common.exceptions import TimeoutException\n",
        "from selenium.webdriver.support.ui import WebDriverWait\n",
        "from selenium.webdriver.support import expected_conditions as EC\n",
        "from selenium.webdriver.common.by import By\n",
        "\n",
        "options = webdriver.ChromeOptions()\n",
        "options.add_argument('--headless')\n",
        "options.add_argument('--no-sandbox')\n",
        "options.add_argument('--disable-dev-shm-usage')"
      ],
      "execution_count": null,
      "outputs": []
    },
    {
      "cell_type": "code",
      "metadata": {
        "id": "QPrPdNVGMmxd"
      },
      "source": [
        ""
      ],
      "execution_count": null,
      "outputs": []
    },
    {
      "cell_type": "code",
      "metadata": {
        "id": "WJX_8XjXMhql"
      },
      "source": [
        "\n",
        "def get_yt_live_urls(yt_channel_url):\n",
        "  wd = webdriver.Chrome(options=options)\n",
        "  wd.get(yt_channel_url)\n",
        "  timeout = 5\n",
        "  try:\n",
        "    element_present = EC.presence_of_element_located((By.TAG_NAME, 'ytd-thumbnail-overlay-time-status-renderer'))\n",
        "    WebDriverWait(wd, timeout).until(element_present)\n",
        "  except TimeoutException:\n",
        "    print(\"Timed out waiting for page to load\")\n",
        "    wd.quit()\n",
        "  finally:\n",
        "    print(\"Page loaded\")\n",
        "\n",
        "  yt_live_urls=[]\n",
        "  yt_pages = [page for page in wd.find_elements_by_tag_name('ytd-browse') if page.get_attribute('page-subtype')=='channels']\n",
        "  if yt_pages is None or len(yt_pages)==0:\n",
        "    raise Exception('yt_pages not found')\n",
        "\n",
        "  # print(yt_pages[0].get_attribute('outerHTML'))\n",
        "  yt_page = yt_pages[0]\n",
        "  yt_thumbnails = yt_page.find_elements_by_tag_name('ytd-thumbnail')\n",
        "  if yt_thumbnails is None or len(yt_thumbnails) == 0:\n",
        "    raise Exception('yt_thumbnails not found.')\n",
        "  \n",
        "  for r in yt_thumbnails:\n",
        "    # check if time is 'LIVE' in the thumbnails\n",
        "    yt_time = r.find_element_by_tag_name('ytd-thumbnail-overlay-time-status-renderer')\n",
        "    if yt_time is None:\n",
        "      raise Exception('yt_time cannot be None')\n",
        "    if yt_time.get_attribute('innerText').strip('\\n').strip(' ')=='LIVE':\n",
        "      yt_link = r.find_element_by_tag_name('a')\n",
        "      yt_link_href = yt_link.get_attribute('href')\n",
        "      yt_live_urls.append(yt_link_href)\n",
        "    \n",
        "  wd.quit()\n",
        "  return yt_live_urls"
      ],
      "execution_count": null,
      "outputs": []
    },
    {
      "cell_type": "code",
      "metadata": {
        "colab": {
          "base_uri": "https://localhost:8080/"
        },
        "id": "J9pka5ChAAQg",
        "outputId": "3f87fd19-716d-48ac-b7b4-61ccb99e599d"
      },
      "source": [
        "get_yt_live_urls('https://www.youtube.com/channel/UCczq0lf4nd5GHG-2Pjoz4Vw')"
      ],
      "execution_count": null,
      "outputs": [
        {
          "output_type": "stream",
          "text": [
            "Page loaded\n"
          ],
          "name": "stdout"
        },
        {
          "output_type": "execute_result",
          "data": {
            "text/plain": [
              "['https://www.youtube.com/watch?v=qumYPTrINUM']"
            ]
          },
          "metadata": {
            "tags": []
          },
          "execution_count": 88
        }
      ]
    },
    {
      "cell_type": "code",
      "metadata": {
        "id": "tLDcdC41__wd"
      },
      "source": [
        ""
      ],
      "execution_count": null,
      "outputs": []
    },
    {
      "cell_type": "code",
      "metadata": {
        "id": "6LpQ0zpP__tY"
      },
      "source": [
        ""
      ],
      "execution_count": null,
      "outputs": []
    }
  ]
}